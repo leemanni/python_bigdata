{
 "cells": [
  {
   "cell_type": "code",
   "execution_count": 1,
   "id": "b8cb3390",
   "metadata": {},
   "outputs": [],
   "source": [
    "def pPrint(arr):\n",
    "    print('type : {}'.format(type(arr)))\n",
    "    print('shape : {}, dimension : {}, dtype : {}'.format(arr.shape, arr.ndim, arr.dtype))\n",
    "    print('넘파이 배열에 저장된 데이터\\n', arr)"
   ]
  },
  {
   "cell_type": "code",
   "execution_count": 18,
   "id": "89d34d01",
   "metadata": {},
   "outputs": [],
   "source": [
    "import warnings\n",
    "warnings.filterwarnings('ignore')\n",
    "import numpy as np\n",
    "import matplotlib.pyplot as plt"
   ]
  },
  {
   "cell_type": "code",
   "execution_count": 4,
   "id": "d604b9c6",
   "metadata": {},
   "outputs": [
    {
     "name": "stdout",
     "output_type": "stream",
     "text": [
      "type : <class 'numpy.ndarray'>\n",
      "shape : (3,), dimension : 1, dtype : int32\n",
      "넘파이 배열에 저장된 데이터\n",
      " [1 2 3]\n"
     ]
    }
   ],
   "source": [
    "arr = [1, 2, 3]\n",
    "np_arr = np.array(arr, dtype=np.int32)\n",
    "pPrint(np_arr)"
   ]
  },
  {
   "cell_type": "code",
   "execution_count": 5,
   "id": "f28a6bca",
   "metadata": {},
   "outputs": [
    {
     "name": "stdout",
     "output_type": "stream",
     "text": [
      "type : <class 'numpy.ndarray'>\n",
      "shape : (2, 3), dimension : 2, dtype : int32\n",
      "넘파이 배열에 저장된 데이터\n",
      " [[1 2 3]\n",
      " [4 5 6]]\n"
     ]
    }
   ],
   "source": [
    "arr = [[1, 2, 3] , [4, 5, 6]]\n",
    "np_arr = np.array(arr, dtype=np.int32)\n",
    "pPrint(np_arr)"
   ]
  },
  {
   "cell_type": "code",
   "execution_count": 14,
   "id": "8e541e8c",
   "metadata": {},
   "outputs": [
    {
     "name": "stdout",
     "output_type": "stream",
     "text": [
      "type : <class 'numpy.ndarray'>\n",
      "shape : (2, 2), dimension : 2, dtype : int32\n",
      "넘파이 배열에 저장된 데이터\n",
      " [[0 0]\n",
      " [0 0]]\n",
      "type : <class 'numpy.ndarray'>\n",
      "shape : (2, 2), dimension : 2, dtype : int32\n",
      "넘파이 배열에 저장된 데이터\n",
      " [[1 1]\n",
      " [1 1]]\n",
      "type : <class 'numpy.ndarray'>\n",
      "shape : (3, 4), dimension : 2, dtype : int32\n",
      "넘파이 배열에 저장된 데이터\n",
      " [[25 25 25 25]\n",
      " [25 25 25 25]\n",
      " [25 25 25 25]]\n",
      "type : <class 'numpy.ndarray'>\n",
      "shape : (4, 4), dimension : 2, dtype : float64\n",
      "넘파이 배열에 저장된 데이터\n",
      " [[1. 0. 0. 0.]\n",
      " [0. 1. 0. 0.]\n",
      " [0. 0. 1. 0.]\n",
      " [0. 0. 0. 1.]]\n",
      "type : <class 'numpy.ndarray'>\n",
      "shape : (4,), dimension : 1, dtype : float64\n",
      "넘파이 배열에 저장된 데이터\n",
      " [1. 1. 1. 1.]\n"
     ]
    }
   ],
   "source": [
    "data = np.zeros(shape=(2,2), dtype=np.int)\n",
    "pPrint(data)\n",
    "data = np.ones(shape=(2,2), dtype=np.int)\n",
    "pPrint(data)\n",
    "data = np.full(shape=(3,4), fill_value=25, dtype=np.int)\n",
    "pPrint(data)\n",
    "data = np.eye(4)\n",
    "pPrint(data)\n",
    "data = np.empty(4)\n",
    "pPrint(data)"
   ]
  },
  {
   "cell_type": "code",
   "execution_count": 16,
   "id": "c6fd032c",
   "metadata": {},
   "outputs": [
    {
     "name": "stdout",
     "output_type": "stream",
     "text": [
      "type : <class 'numpy.ndarray'>\n",
      "shape : (3,), dimension : 1, dtype : int32\n",
      "넘파이 배열에 저장된 데이터\n",
      " [1 4 7]\n"
     ]
    }
   ],
   "source": [
    "arr_np = np.arange(1, 10, 3)\n",
    "pPrint(arr_np)"
   ]
  },
  {
   "cell_type": "code",
   "execution_count": 19,
   "id": "3728607a",
   "metadata": {},
   "outputs": [
    {
     "data": {
      "image/png": "[encoded data removed]",
      "text/plain": [
       "<Figure size 432x288 with 1 Axes>"
      ]
     },
     "metadata": {
      "needs_background": "light"
     },
     "output_type": "display_data"
    }
   ],
   "source": [
    "data = np.random.normal(100, 10,100)\n",
    "plt.hist(data, bins=100)\n",
    "plt.show()"
   ]
  }
 ],
 "metadata": {
  "kernelspec": {
   "display_name": "Python 3",
   "language": "python",
   "name": "python3"
  },
  "language_info": {
   "codemirror_mode": {
    "name": "ipython",
    "version": 3
   },
   "file_extension": ".py",
   "mimetype": "text/x-python",
   "name": "python",
   "nbconvert_exporter": "python",
   "pygments_lexer": "ipython3",
   "version": "3.6.8"
  }
 },
 "nbformat": 4,
 "nbformat_minor": 5
}
